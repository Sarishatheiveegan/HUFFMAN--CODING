{
 "cells": [
  {
   "cell_type": "code",
   "execution_count": 1,
   "id": "54b82466-1ee1-4d20-b7e6-8626b4024466",
   "metadata": {},
   "outputs": [
    {
     "name": "stdin",
     "output_type": "stream",
     "text": [
      "Enter a string to encode:  saveetha engineering college\n"
     ]
    }
   ],
   "source": [
    "\n",
    "import heapq\n",
    "from collections import defaultdict\n",
    "string = input(\"Enter a string to encode: \")\n"
   ]
  },
  {
   "cell_type": "code",
   "execution_count": null,
   "id": "ea9f5183-6aeb-4cbf-9ae9-bcd1a384f03c",
   "metadata": {},
   "outputs": [],
   "source": [
    "class NodeTree(object):\n",
    "    def __init__(self, char, freq):\n",
    "        self.char = char  \n",
    "        self.freq = freq  \n",
    "        self.left = None   \n",
    "        self.right = None  \n",
    "    def __lt__(self, other):\n",
    "        return self.freq < other.freq"
   ]
  },
  {
   "cell_type": "code",
   "execution_count": null,
   "id": "b75cd85f-5eab-4f9e-8a3c-6d27c0814b4f",
   "metadata": {},
   "outputs": [],
   "source": [
    "\n",
    "def huffman_code_tree(node, left=True, binString=''):\n",
    "    if node is None:\n",
    "        return {}\n",
    "    if node.char is not None:\n",
    "        return {node.char: binString}\n",
    "    huffman_codes = {}\n",
    "    huffman_codes.update(huffman_code_tree(node.left, left=True, binString=binString + '0'))\n",
    "    huffman_codes.update(huffman_code_tree(node.right, left=False, binString=binString + '1'))\n",
    "    return huffman_codes"
   ]
  },
  {
   "cell_type": "code",
   "execution_count": null,
   "id": "def4b7b4-22c7-4281-a6b2-948b5e95d96a",
   "metadata": {},
   "outputs": [],
   "source": [
    "freq = defaultdict(int)\n",
    "for char in string:\n",
    "    freq[char] += 1\n",
    "heap = []\n",
    "for char, freq_value in freq.items():\n",
    "    heapq.heappush(heap, NodeTree(char, freq_value))\n",
    "while len(heap) > 1:\n",
    "    left = heapq.heappop(heap)\n",
    "    right = heapq.heappop(heap)\n",
    "    merged = NodeTree(None, left.freq + right.freq)\n",
    "    merged.left = left\n",
    "    merged.right = right\n",
    "    heapq.heappush(heap, merged)"
   ]
  },
  {
   "cell_type": "code",
   "execution_count": null,
   "id": "1207900d-4eaa-449b-ac9e-bb629e70bef2",
   "metadata": {},
   "outputs": [],
   "source": [
    "root = heap[0]\n",
    "huffmanCode = huffman_code_tree(root)\n",
    "print(\" Char | Huffman code \")\n",
    "print(\"----------------------\")\n",
    "for char, code in huffmanCode.items():\n",
    "    print(f\" {char}  | {code}\")"
   ]
  }
 ],
 "metadata": {
  "kernelspec": {
   "display_name": "Python 3 (ipykernel)",
   "language": "python",
   "name": "python3"
  },
  "language_info": {
   "codemirror_mode": {
    "name": "ipython",
    "version": 3
   },
   "file_extension": ".py",
   "mimetype": "text/x-python",
   "name": "python",
   "nbconvert_exporter": "python",
   "pygments_lexer": "ipython3",
   "version": "3.11.11"
  }
 },
 "nbformat": 4,
 "nbformat_minor": 5
}
